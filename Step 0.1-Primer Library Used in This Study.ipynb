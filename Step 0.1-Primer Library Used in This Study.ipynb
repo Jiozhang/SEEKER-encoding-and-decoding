{
 "cells": [
  {
   "cell_type": "code",
   "execution_count": 4,
   "id": "31e9e1d0",
   "metadata": {},
   "outputs": [
    {
     "name": "stdout",
     "output_type": "stream",
     "text": [
      "Stored 'primerLibrary' (list)\n",
      "['ACTCCTCGAATGCTAGCGTTG', 'ACATCGCCATTCCAAGAGCAT', 'AGATTGCACGTGTGTCTGCCT', 'GTGGAACGCTTGACCAACTTG', 'AGATGGCATGGACACGGAGAT', 'GACGAACACTGTTCACACCTG', 'CACGAAGCAAGCTATGACCAC', 'TCAGTTCTCCGTACATGGCTG', 'ACCTCGTGCAGTTGTGGTTGT', 'TGGTCACAGCTGTAAGTGCAT', 'TGCTGGTTACCACATAGCCTG', 'GTCTTGAGTCACGAACCAGGA', 'GTTGCCAACGGACTCTAAGGA', 'TGCTCCTGTCTTGTATCCGTG', 'AGAGCCTGCCATGTTCCAATG', 'TGGATACCAACCGATGCGAAC', 'ACACACTTGCGTTGCTCTTCG', 'AGTGCACCTTGATGTGGTCCT', 'AGTGAACCGTCTTCATGGAGC', 'TCGGTTCATCCACAAGCCTTG', 'TATTGGCATCGCGAACATCCA', 'ATAGCACAGCGTCACGGTTCA', 'AGTTGCTGATAGGTGCTTCGA', 'TCTCCGAGTCTTCACGTCTTG', 'TCCTGCACTTGGTATAGGCCA', 'ACAATGCCTGGTGTTACTCCG', 'ATTGCTGCAATGCTGAACCAG', 'GCATCCAATCAGACAGTCCGA', 'GATCCGAACTGACAGCGAACT', 'AGCGTTATACTGGTCGTTGGT', 'CTATGGCACGTGGAGTTGACT', 'ACTAGGCACCTCACAGTCAGA', 'ACATCTCATCCTGAACGCACA', 'TGTAACGACGCTACTACCACG', 'GAAGTCACAACACGCTGGAGT', 'AGTGCGAAGGAAGCCAACTAG', 'AGAGGAGACCACCAGCTCTTA', 'ACTTGGCATGTCCTACATCGT', 'GAGTTGCACTGCTCCGTCAAT', 'ACCGTAGATCCTCGACAAGCT', 'TCAACTGGTGATTCGTGCAAC', 'ACGGTAGCTTCCTGTATGCCT', 'AGGATGCCGTTCGTAGTGCTA', 'TGAAGCATGACGGACTACCAG', 'GTCGAACGTGGACAGATTGGT', 'CACTTCACGTTCACACTGGAC', 'GCAATAGACGCTCTCTCCAGT', 'TGTGCCTCAACATGTCAACCT', 'CTTGCGACGTTGGACTCTTCT', 'TGGTCAGGCGGTATTCTTCGA', 'GATTCGCGCATTGACATCCGA', 'GTCGTGAAGTGTGACATTGCA', 'TGTTCGTACCTGACACACCAG', 'ACCTTGCAGTGTTCCAACTCT', 'ACCTAGTTGCCGATGAAGGTC', 'ATACCTGGTGTTGTACGTGCT', 'AGTTCCGGTTACAGACAAGGC', 'ATCGACTGCCTCTAACAAGCA', 'ATCTCCAGATGCCACGTTCAG', 'GCAACTGATTCGTCACCAAGC', 'TGGCACTTCAAGGCATCCACT', 'CAGAAGCATGTGTGGATTCCG', 'CACTCCATGCACCATCACCAT', 'CGGAATAATTGGCGCTGGAAC', 'CGTTGACTGTCTTCACCGAGA', 'CGGTGATTACGGCAGTTAACG', 'TATCCAGGAACTTCACACGCA', 'ATGAGGATGGCAGAGCTCTTC', 'AGTACGCAGGACAGCAACGAT', 'AGCGTATAGGCAAGCACTGGT', 'ACCTCAGTCCATGCGCTATTC', 'GCTTGTCTGTTCTGAGTTGCG', 'AGCAGCTCGAAGGATAAGTGC', 'TCGTGGTGATTCGTCAGTTGA', 'GCAATACTCTGGCTCAAGTGC', 'TGGTCGTATCAAGCCACCTGA', 'AGCGACTGATGGACGTCTTCT', 'CGCAACTCTGTTCAAGGCTCA', 'CGAGGATGATCAACGCGAAGA', 'TCCACGAGCCATCTTCTCCAT', 'TACCAAGCTTCGGACTCCAAC', 'ACAGACACGTTCGATACCGCA']\n",
      "82\n"
     ]
    }
   ],
   "source": [
    "import random\n",
    "\n",
    "# Using readlines()\n",
    "file1 = open('data sequence standard-40.txt', 'r')\n",
    "Lines = file1.readlines()\n",
    "\n",
    "# Extracting forward data primers\n",
    "primerLibrary = []\n",
    "primerLibrary.append(Lines[0][:21])\n",
    "\n",
    "for data in Lines:\n",
    "    if data[:21] != primerLibrary[-1]:\n",
    "        primerLibrary.append(data[:21])\n",
    "\n",
    "# Extracting forward and reverse reference primers\n",
    "reference_forward = 'TCAACTGGTGATTCGTGCAAC'\n",
    "reference_reverse = 'ACGGTAGCTTCCTGTATGCCT'\n",
    "primerLibrary.append(reference_forward)\n",
    "primerLibrary.append(reference_reverse)\n",
    "\n",
    "# Extracting reverse data primers\n",
    "for data in reversed(Lines):\n",
    "    data = data.strip('\\n')\n",
    "    if data[-21:] != primerLibrary[-1]:\n",
    "        primerLibrary.append(data[-21:])\n",
    "'''        \n",
    "print(primerLibrary)\n",
    "print(len(primerLibrary))\n",
    "'''\n",
    "%store primerLibrary\n",
    "print(primerLibrary)\n",
    "print(len(primerLibrary))"
   ]
  },
  {
   "cell_type": "code",
   "execution_count": null,
   "id": "268afba9",
   "metadata": {},
   "outputs": [],
   "source": []
  }
 ],
 "metadata": {
  "kernelspec": {
   "display_name": "Python 3 (ipykernel)",
   "language": "python",
   "name": "python3"
  },
  "language_info": {
   "codemirror_mode": {
    "name": "ipython",
    "version": 3
   },
   "file_extension": ".py",
   "mimetype": "text/x-python",
   "name": "python",
   "nbconvert_exporter": "python",
   "pygments_lexer": "ipython3",
   "version": "3.11.4"
  }
 },
 "nbformat": 4,
 "nbformat_minor": 5
}
